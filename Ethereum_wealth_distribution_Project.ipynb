{
  "cells": [
    {
      "cell_type": "code",
      "execution_count": null,
      "metadata": {
        "id": "_Jewe_e9CIYa"
      },
      "outputs": [],
      "source": [
        "from collections import Counter"
      ]
    },
    {
      "cell_type": "code",
      "execution_count": null,
      "metadata": {
        "colab": {
          "base_uri": "https://localhost:8080/"
        },
        "id": "g8Y7w6_CCIIT",
        "outputId": "73cbb1f2-a83a-4280-f057-eedb5e196440"
      },
      "outputs": [
        {
          "output_type": "stream",
          "name": "stdout",
          "text": [
            "This is a tutorial!\n"
          ]
        }
      ],
      "source": [
        "print(\"This is a tutorial!\")"
      ]
    },
    {
      "cell_type": "markdown",
      "metadata": {
        "id": "VOqLNkRKyUIS"
      },
      "source": [
        "<a id='text-cells'></a>\n",
        "### Text cells"
      ]
    },
    {
      "cell_type": "code",
      "execution_count": null,
      "metadata": {
        "colab": {
          "base_uri": "https://localhost:8080/"
        },
        "id": "Xp0E_NaNop5W",
        "outputId": "7a1d962b-ab23-4b72-9d43-c60a35e93de1"
      },
      "outputs": [
        {
          "output_type": "stream",
          "name": "stdout",
          "text": [
            "Drive already mounted at /content/drive; to attempt to forcibly remount, call drive.mount(\"/content/drive\", force_remount=True).\n"
          ]
        }
      ],
      "source": [
        "from google.colab import drive\n",
        "drive.mount('/content/drive')"
      ]
    },
    {
      "cell_type": "markdown",
      "metadata": {
        "id": "IfbaUe-oq7DK"
      },
      "source": [
        "Hello world!"
      ]
    },
    {
      "cell_type": "markdown",
      "metadata": {
        "id": "X6zdrH15_CCW"
      },
      "source": [
        "<a id='access-to-the-shell'></a>\n",
        "### Access to the shell"
      ]
    },
    {
      "cell_type": "code",
      "execution_count": null,
      "metadata": {
        "colab": {
          "base_uri": "https://localhost:8080/"
        },
        "id": "zdO9sjSdEVnr",
        "outputId": "2da5d6e2-4a22-4e03-8eea-6c82f6da1408"
      },
      "outputs": [
        {
          "output_type": "stream",
          "name": "stdout",
          "text": [
            "\u001b[0m\u001b[01;34mdrive\u001b[0m/        \u001b[01;34mspark-3.1.1-bin-hadoop3.2\u001b[0m/     spark-3.1.1-bin-hadoop3.2.tgz.1\n",
            "\u001b[01;34msample_data\u001b[0m/  spark-3.1.1-bin-hadoop3.2.tgz  spark-3.1.1-bin-hadoop3.2.tgz.2\n"
          ]
        }
      ],
      "source": [
        "ls"
      ]
    },
    {
      "cell_type": "code",
      "execution_count": null,
      "metadata": {
        "colab": {
          "base_uri": "https://localhost:8080/",
          "height": 35
        },
        "id": "QF9e3lDDEX3I",
        "outputId": "00da126d-af82-44e8-cced-91637e7cae5d"
      },
      "outputs": [
        {
          "output_type": "execute_result",
          "data": {
            "text/plain": [
              "'/content'"
            ],
            "application/vnd.google.colaboratory.intrinsic+json": {
              "type": "string"
            }
          },
          "metadata": {},
          "execution_count": 145
        }
      ],
      "source": [
        "pwd"
      ]
    },
    {
      "cell_type": "markdown",
      "metadata": {
        "id": "Dd6t0uFzuR4X"
      },
      "source": [
        "<a id='installing-spark'></a>\n",
        "### Installing Spark"
      ]
    },
    {
      "cell_type": "markdown",
      "metadata": {
        "id": "6apGVff5h4ca"
      },
      "source": [
        "Install Dependencies:\n",
        "\n",
        "\n",
        "1.   Java 8\n",
        "2.   Apache Spark with hadoop and\n",
        "3.   Findspark (used to locate the spark in the system)\n"
      ]
    },
    {
      "cell_type": "code",
      "execution_count": null,
      "metadata": {
        "id": "tt7ZS1_wGgjn"
      },
      "outputs": [],
      "source": [
        "!apt-get install openjdk-8-jdk-headless -qq > /dev/null\n",
        "!wget -q http://archive.apache.org/dist/spark/spark-3.1.1/spark-3.1.1-bin-hadoop3.2.tgz\n",
        "!tar xf spark-3.1.1-bin-hadoop3.2.tgz\n",
        "!pip install -q findspark"
      ]
    },
    {
      "cell_type": "markdown",
      "metadata": {
        "id": "C3x0ZRLxjMVr"
      },
      "source": [
        "Set Environment Variables:"
      ]
    },
    {
      "cell_type": "code",
      "execution_count": null,
      "metadata": {
        "id": "sdOOq4twHN1K"
      },
      "outputs": [],
      "source": [
        "import os\n",
        "os.environ[\"JAVA_HOME\"] = \"/usr/lib/jvm/java-8-openjdk-amd64\"\n",
        "os.environ[\"SPARK_HOME\"] = \"/content/spark-3.1.1-bin-hadoop3.2\""
      ]
    },
    {
      "cell_type": "code",
      "execution_count": null,
      "metadata": {
        "colab": {
          "base_uri": "https://localhost:8080/"
        },
        "id": "3ACYMwhgHTYz",
        "outputId": "8ea4068b-f684-44c3-855a-562fd463207b"
      },
      "outputs": [
        {
          "output_type": "stream",
          "name": "stdout",
          "text": [
            "drive\t\t\t       spark-3.1.1-bin-hadoop3.2.tgz.1\n",
            "sample_data\t\t       spark-3.1.1-bin-hadoop3.2.tgz.2\n",
            "spark-3.1.1-bin-hadoop3.2      spark-3.1.1-bin-hadoop3.2.tgz.3\n",
            "spark-3.1.1-bin-hadoop3.2.tgz\n"
          ]
        }
      ],
      "source": [
        "!ls"
      ]
    },
    {
      "cell_type": "code",
      "execution_count": null,
      "metadata": {
        "colab": {
          "base_uri": "https://localhost:8080/",
          "height": 219
        },
        "id": "KR1zLBk1998Z",
        "outputId": "59b5700a-be5e-4b52-b26c-bd4e1ed88862"
      },
      "outputs": [
        {
          "output_type": "execute_result",
          "data": {
            "text/plain": [
              "<pyspark.sql.session.SparkSession at 0x7fa9cc9fee90>"
            ],
            "text/html": [
              "\n",
              "            <div>\n",
              "                <p><b>SparkSession - in-memory</b></p>\n",
              "                \n",
              "        <div>\n",
              "            <p><b>SparkContext</b></p>\n",
              "\n",
              "            <p><a href=\"http://1db864b005fa:4040\">Spark UI</a></p>\n",
              "\n",
              "            <dl>\n",
              "              <dt>Version</dt>\n",
              "                <dd><code>v3.1.1</code></dd>\n",
              "              <dt>Master</dt>\n",
              "                <dd><code>local[*]</code></dd>\n",
              "              <dt>AppName</dt>\n",
              "                <dd><code>pyspark-shell</code></dd>\n",
              "            </dl>\n",
              "        </div>\n",
              "        \n",
              "            </div>\n",
              "        "
            ]
          },
          "metadata": {},
          "execution_count": 149
        }
      ],
      "source": [
        "import findspark\n",
        "findspark.init()\n",
        "from pyspark.sql import SparkSession\n",
        "spark = SparkSession.builder.master(\"local[*]\").getOrCreate()\n",
        "spark.conf.set(\"spark.sql.repl.eagerEval.enabled\", True) # Property used to format output tables better\n",
        "spark"
      ]
    },
    {
      "cell_type": "markdown",
      "metadata": {
        "id": "hmIqq6xPK7m7"
      },
      "source": [
        "<a id='exploring-the-dataset'></a>\n",
        "## Exploring the Dataset"
      ]
    },
    {
      "cell_type": "markdown",
      "metadata": {
        "id": "VZwsr57lwPgq"
      },
      "source": [
        "<a id='loading-the-dataset'></a>\n",
        "### Loading the Dataset"
      ]
    },
    {
      "cell_type": "code",
      "execution_count": null,
      "metadata": {
        "colab": {
          "base_uri": "https://localhost:8080/"
        },
        "id": "Wpq2jYvIMOJy",
        "outputId": "7790e969-ec68-44a6-f929-d006844f6748"
      },
      "outputs": [
        {
          "output_type": "stream",
          "name": "stdout",
          "text": [
            "drive\t\t\t       spark-3.1.1-bin-hadoop3.2.tgz.1\n",
            "sample_data\t\t       spark-3.1.1-bin-hadoop3.2.tgz.2\n",
            "spark-3.1.1-bin-hadoop3.2      spark-3.1.1-bin-hadoop3.2.tgz.3\n",
            "spark-3.1.1-bin-hadoop3.2.tgz\n"
          ]
        }
      ],
      "source": [
        "!ls"
      ]
    },
    {
      "cell_type": "code",
      "execution_count": null,
      "metadata": {
        "colab": {
          "base_uri": "https://localhost:8080/"
        },
        "id": "hz6ALr5mMqZt",
        "outputId": "aa392b61-128f-4d2d-997d-c3a74a094e58"
      },
      "outputs": [
        {
          "output_type": "stream",
          "name": "stdout",
          "text": [
            "+--------------------+-------------------+\n",
            "|             address|        eth_balance|\n",
            "+--------------------+-------------------+\n",
            "|0x9874f287b5a05c9...|                  0|\n",
            "|0x8215582518610d7...|  24175927118817482|\n",
            "|0xf4be7f6f2529450...|                  0|\n",
            "|0xac53fd148679e0b...|        10000000004|\n",
            "|0xd809a6957f057f9...|                  0|\n",
            "|0x76dcc99f6935785...|                  0|\n",
            "|0xb82faa264ea92ca...|     15538379333120|\n",
            "|0x1d0ccd03422ceef...|                  0|\n",
            "|0x5961c547503ee0a...|                  0|\n",
            "|0x4a65d343b5b7f55...|                  0|\n",
            "|0xda885bae09fa3db...|    254673894510000|\n",
            "|0x7ac34ef35edfa28...|1404744140280226447|\n",
            "|0xad649bcaff3495e...|                  0|\n",
            "|0xf19630799ec4783...|                  0|\n",
            "|0x8ebb9dbd42671df...|      2015730000000|\n",
            "|0xa9fd6ed5172b4c2...|    474000000000000|\n",
            "|0x663c984a6898679...|                  0|\n",
            "|0xc5f62d1bbde43dd...|                  0|\n",
            "|0x1dafe114cfb27af...|                  0|\n",
            "|0xcd6758e0bb9555b...|                  0|\n",
            "+--------------------+-------------------+\n",
            "only showing top 20 rows\n",
            "\n"
          ]
        }
      ],
      "source": [
        "# Load data from csv to a dataframe. \n",
        "# header=True means the first row is a header \n",
        "# sep=';' means the column are seperated using ''\n",
        "df = spark.read.csv('/content/drive/MyDrive/BLOCKCHAIN/combined-csv-files.csv',header=True,inferSchema=True)\n",
        "df.show()"
      ]
    },
    {
      "cell_type": "markdown",
      "metadata": {
        "id": "N0lCS2LNwnoy"
      },
      "source": [
        "The above command loads our data from into a dataframe (DF). A dataframe is a 2-dimensional labeled data structure with columns of potentially different types."
      ]
    },
    {
      "cell_type": "markdown",
      "metadata": {
        "id": "_QwZtWxZRCBn"
      },
      "source": [
        "<a id='viewing-the-dataframe'></a>\n",
        "### Viewing the Dataframe"
      ]
    },
    {
      "cell_type": "markdown",
      "metadata": {
        "id": "50LZ3S8_PMg_"
      },
      "source": [
        "There are a couple of ways to view your dataframe(DF) in PySpark:\n",
        "\n",
        "1.   `df.take(5)` will return a list of five Row objects. \n",
        "2.   `df.collect()` will get all of the data from the entire DataFrame. Be really careful when using it, because if you have a large data set, you can easily crash the driver node. \n",
        "3.   `df.show()` is the most commonly used method to view a dataframe. There are a few parameters we can pass to this method, like the number of rows and truncaiton. For example, `df.show(5, False)` or ` df.show(5, truncate=False)` will show the entire data wihtout any truncation.\n",
        "4.   `df.limit(5)` will **return a new DataFrame** by taking the first n rows. As spark is distributed in nature, there is no guarantee that `df.limit()` will give you the same results each time.\n",
        "\n",
        "Let us see some of them in action below:"
      ]
    },
    {
      "cell_type": "code",
      "execution_count": null,
      "metadata": {
        "colab": {
          "base_uri": "https://localhost:8080/"
        },
        "id": "I1qqkqcfxM0v",
        "outputId": "dc6ff0c5-e014-4c73-8a06-5c12a69d86b1"
      },
      "outputs": [
        {
          "output_type": "stream",
          "name": "stdout",
          "text": [
            "+------------------------------------------+-----------------+\n",
            "|address                                   |eth_balance      |\n",
            "+------------------------------------------+-----------------+\n",
            "|0x9874f287b5a05c945cbedffb0bfd9fbcde6c01f5|0                |\n",
            "|0x8215582518610d7adf8c9939ea03ca3baa6839f6|24175927118817482|\n",
            "|0xf4be7f6f252945036427ed53ee869b9d09b76e3c|0                |\n",
            "|0xac53fd148679e0b9ee448d5928ac7aa1cecbe10d|10000000004      |\n",
            "|0xd809a6957f057f91954245b60e2056beb5faf037|0                |\n",
            "+------------------------------------------+-----------------+\n",
            "only showing top 5 rows\n",
            "\n"
          ]
        }
      ],
      "source": [
        "df.show(5, truncate=False)"
      ]
    },
    {
      "cell_type": "code",
      "execution_count": null,
      "metadata": {
        "colab": {
          "base_uri": "https://localhost:8080/",
          "height": 161
        },
        "id": "R9zwzswIxXF9",
        "outputId": "26722dab-b0fc-437a-e86b-f53eb19743d1"
      },
      "outputs": [
        {
          "output_type": "execute_result",
          "data": {
            "text/plain": [
              "+--------------------+-----------------+\n",
              "|             address|      eth_balance|\n",
              "+--------------------+-----------------+\n",
              "|0x9874f287b5a05c9...|                0|\n",
              "|0x8215582518610d7...|24175927118817482|\n",
              "|0xf4be7f6f2529450...|                0|\n",
              "|0xac53fd148679e0b...|      10000000004|\n",
              "|0xd809a6957f057f9...|                0|\n",
              "+--------------------+-----------------+"
            ],
            "text/html": [
              "<table border='1'>\n",
              "<tr><th>address</th><th>eth_balance</th></tr>\n",
              "<tr><td>0x9874f287b5a05c9...</td><td>0</td></tr>\n",
              "<tr><td>0x8215582518610d7...</td><td>24175927118817482</td></tr>\n",
              "<tr><td>0xf4be7f6f2529450...</td><td>0</td></tr>\n",
              "<tr><td>0xac53fd148679e0b...</td><td>10000000004</td></tr>\n",
              "<tr><td>0xd809a6957f057f9...</td><td>0</td></tr>\n",
              "</table>\n"
            ]
          },
          "metadata": {},
          "execution_count": 153
        }
      ],
      "source": [
        "df.limit(5)"
      ]
    },
    {
      "cell_type": "code",
      "execution_count": null,
      "metadata": {
        "colab": {
          "base_uri": "https://localhost:8080/"
        },
        "id": "D6WYC3_C0wmH",
        "outputId": "230200d3-abbf-420f-afef-5d7d2713a976"
      },
      "outputs": [
        {
          "output_type": "stream",
          "name": "stdout",
          "text": [
            "+--------------------+-------------------+\n",
            "|             address|        eth_balance|\n",
            "+--------------------+-------------------+\n",
            "|0x9874f287b5a05c9...|                  0|\n",
            "|0x8215582518610d7...|  24175927118817482|\n",
            "|0xf4be7f6f2529450...|                  0|\n",
            "|0xac53fd148679e0b...|        10000000004|\n",
            "|0xd809a6957f057f9...|                  0|\n",
            "|0x76dcc99f6935785...|                  0|\n",
            "|0xb82faa264ea92ca...|     15538379333120|\n",
            "|0x1d0ccd03422ceef...|                  0|\n",
            "|0x5961c547503ee0a...|                  0|\n",
            "|0x4a65d343b5b7f55...|                  0|\n",
            "|0xda885bae09fa3db...|    254673894510000|\n",
            "|0x7ac34ef35edfa28...|1404744140280226447|\n",
            "|0xad649bcaff3495e...|                  0|\n",
            "|0xf19630799ec4783...|                  0|\n",
            "|0x8ebb9dbd42671df...|      2015730000000|\n",
            "|0xa9fd6ed5172b4c2...|    474000000000000|\n",
            "|0x663c984a6898679...|                  0|\n",
            "|0xc5f62d1bbde43dd...|                  0|\n",
            "|0x1dafe114cfb27af...|                  0|\n",
            "|0xcd6758e0bb9555b...|                  0|\n",
            "+--------------------+-------------------+\n",
            "only showing top 20 rows\n",
            "\n"
          ]
        }
      ],
      "source": [
        "\n",
        "df.na.drop().show()"
      ]
    },
    {
      "cell_type": "markdown",
      "metadata": {
        "id": "eUazdCEmu_sp"
      },
      "source": [
        "<a id='viewing-dataframe-columns'></a>\n",
        "### Viewing Dataframe Columns"
      ]
    },
    {
      "cell_type": "code",
      "execution_count": null,
      "metadata": {
        "colab": {
          "base_uri": "https://localhost:8080/"
        },
        "id": "9o7jsazcu-13",
        "outputId": "efd05db5-a0db-4432-b339-2e802c1dc8d2"
      },
      "outputs": [
        {
          "output_type": "execute_result",
          "data": {
            "text/plain": [
              "['address', 'eth_balance']"
            ]
          },
          "metadata": {},
          "execution_count": 155
        }
      ],
      "source": [
        "df.columns"
      ]
    },
    {
      "cell_type": "markdown",
      "metadata": {
        "id": "3lfS2DhHuhPl"
      },
      "source": [
        "<a id='dataframe-schema'></a>\n",
        "### Dataframe Schema"
      ]
    },
    {
      "cell_type": "markdown",
      "metadata": {
        "id": "-xX7hRoW_cXY"
      },
      "source": [
        "There are two methods commonly used to view the data types of a dataframe:"
      ]
    },
    {
      "cell_type": "code",
      "execution_count": null,
      "metadata": {
        "colab": {
          "base_uri": "https://localhost:8080/"
        },
        "id": "w6qwTjGsNxrw",
        "outputId": "1eb151f9-0976-4142-c179-ff4a498bac17"
      },
      "outputs": [
        {
          "output_type": "execute_result",
          "data": {
            "text/plain": [
              "[('address', 'string'), ('eth_balance', 'decimal(26,0)')]"
            ]
          },
          "metadata": {},
          "execution_count": 156
        }
      ],
      "source": [
        "df.dtypes"
      ]
    },
    {
      "cell_type": "code",
      "execution_count": null,
      "metadata": {
        "colab": {
          "base_uri": "https://localhost:8080/"
        },
        "id": "CCGTFlCWRPw4",
        "outputId": "72e759b4-4e44-49b6-f018-10ad2821aa84"
      },
      "outputs": [
        {
          "output_type": "stream",
          "name": "stdout",
          "text": [
            "root\n",
            " |-- address: string (nullable = true)\n",
            " |-- eth_balance: decimal(26,0) (nullable = true)\n",
            "\n"
          ]
        }
      ],
      "source": [
        "df.printSchema()"
      ]
    },
    {
      "cell_type": "code",
      "source": [
        "df.count()"
      ],
      "metadata": {
        "colab": {
          "base_uri": "https://localhost:8080/"
        },
        "id": "speZODcdY5JL",
        "outputId": "340902c7-3d08-4fbc-d1cd-f8336e580654"
      },
      "execution_count": null,
      "outputs": [
        {
          "output_type": "execute_result",
          "data": {
            "text/plain": [
              "218028252"
            ]
          },
          "metadata": {},
          "execution_count": 158
        }
      ]
    },
    {
      "cell_type": "markdown",
      "metadata": {
        "id": "yTVjYqeRuxWn"
      },
      "source": [
        "<a id='explicit-schema-inference'></a>\n",
        "#### Defining Schema Explicitly"
      ]
    },
    {
      "cell_type": "code",
      "execution_count": null,
      "metadata": {
        "colab": {
          "base_uri": "https://localhost:8080/"
        },
        "id": "xpsaQ4JMRUiS",
        "outputId": "4e6c0141-858f-4315-ae29-f8fa51d42681"
      },
      "outputs": [
        {
          "output_type": "execute_result",
          "data": {
            "text/plain": [
              "['address', 'eth_balance']"
            ]
          },
          "metadata": {},
          "execution_count": 159
        }
      ],
      "source": [
        "from pyspark.sql.types import *\n",
        "df.columns"
      ]
    },
    {
      "cell_type": "markdown",
      "metadata": {
        "id": "MDCO3TEe95OY"
      },
      "source": [
        "As we can see here, the data has been successully loaded with the specified datatypes."
      ]
    },
    {
      "cell_type": "markdown",
      "metadata": {
        "id": "ikGR5pDICTu7"
      },
      "source": [
        "<a id='selecting-columns'></a>\n",
        "### Selecting Columns"
      ]
    },
    {
      "cell_type": "markdown",
      "metadata": {
        "id": "-VMwIwi2rj_o"
      },
      "source": [
        "There are multiple ways to do a select in PySpark. You can find how they differ and how each below:"
      ]
    },
    {
      "cell_type": "code",
      "execution_count": null,
      "metadata": {
        "colab": {
          "base_uri": "https://localhost:8080/"
        },
        "id": "ge9-_ygideWk",
        "outputId": "4a1dd33a-a15f-4b24-f077-e5abde3ef90c"
      },
      "outputs": [
        {
          "output_type": "stream",
          "name": "stdout",
          "text": [
            "Column<'address'>\n",
            "********************\n",
            "+------------------------------------------+\n",
            "|address                                   |\n",
            "+------------------------------------------+\n",
            "|0x9874f287b5a05c945cbedffb0bfd9fbcde6c01f5|\n",
            "|0x8215582518610d7adf8c9939ea03ca3baa6839f6|\n",
            "|0xf4be7f6f252945036427ed53ee869b9d09b76e3c|\n",
            "|0xac53fd148679e0b9ee448d5928ac7aa1cecbe10d|\n",
            "|0xd809a6957f057f91954245b60e2056beb5faf037|\n",
            "|0x76dcc99f6935785dfb494773d98a09613147d4be|\n",
            "|0xb82faa264ea92ca78a4de6d76089457d0f07f2a2|\n",
            "|0x1d0ccd03422ceefddafa55a0acff36c3789827bf|\n",
            "|0x5961c547503ee0a1e185fc29dbc87fb5f0c98071|\n",
            "|0x4a65d343b5b7f55d668c9572a672c0a6685e5776|\n",
            "|0xda885bae09fa3dbfb1faeb84867bbb3fb68bfbb6|\n",
            "|0x7ac34ef35edfa28cb4961e7a383c3be8f599b1a3|\n",
            "|0xad649bcaff3495e70cfc73fbce2dd19a2760073b|\n",
            "|0xf19630799ec47834aee3995e61e41d699e6579b0|\n",
            "|0x8ebb9dbd42671dfb5b054c8d3cd717058d658658|\n",
            "|0xa9fd6ed5172b4c266948ce2ae41336a9b58155fb|\n",
            "|0x663c984a689867998f19f11684051abb07d287af|\n",
            "|0xc5f62d1bbde43dd086a25a8fd99a1675160cbc04|\n",
            "|0x1dafe114cfb27afe08becf79ce641ab1ef60d5e0|\n",
            "|0xcd6758e0bb9555bc34416a4361305a8903a4e51c|\n",
            "+------------------------------------------+\n",
            "only showing top 20 rows\n",
            "\n"
          ]
        }
      ],
      "source": [
        "# 1st method\n",
        "# Column name is case sensitive in this usage\n",
        "print(df.address)\n",
        "print(\"*\"*20)\n",
        "df.select(df.address).show(truncate=False)"
      ]
    },
    {
      "cell_type": "markdown",
      "metadata": {
        "id": "YxP1su8veNde"
      },
      "source": [
        "**NOTE:**\n",
        "\n",
        "> **We can't always use the dot notation because this will break when the column names have reserved names or attributes to the data frame class. Additionally, the column names are case sensitive in nature so we need to always make sure the column names have been changed to a paticular case before using it.**\n",
        "\n"
      ]
    },
    {
      "cell_type": "code",
      "execution_count": null,
      "metadata": {
        "colab": {
          "base_uri": "https://localhost:8080/"
        },
        "id": "md5zaET8dsr4",
        "outputId": "0d6cbcd6-3e0a-406c-9907-e35239d73a89"
      },
      "outputs": [
        {
          "output_type": "stream",
          "name": "stdout",
          "text": [
            "Column<'address'>\n",
            "********************\n",
            "+------------------------------------------+\n",
            "|address                                   |\n",
            "+------------------------------------------+\n",
            "|0x9874f287b5a05c945cbedffb0bfd9fbcde6c01f5|\n",
            "|0x8215582518610d7adf8c9939ea03ca3baa6839f6|\n",
            "|0xf4be7f6f252945036427ed53ee869b9d09b76e3c|\n",
            "|0xac53fd148679e0b9ee448d5928ac7aa1cecbe10d|\n",
            "|0xd809a6957f057f91954245b60e2056beb5faf037|\n",
            "|0x76dcc99f6935785dfb494773d98a09613147d4be|\n",
            "|0xb82faa264ea92ca78a4de6d76089457d0f07f2a2|\n",
            "|0x1d0ccd03422ceefddafa55a0acff36c3789827bf|\n",
            "|0x5961c547503ee0a1e185fc29dbc87fb5f0c98071|\n",
            "|0x4a65d343b5b7f55d668c9572a672c0a6685e5776|\n",
            "|0xda885bae09fa3dbfb1faeb84867bbb3fb68bfbb6|\n",
            "|0x7ac34ef35edfa28cb4961e7a383c3be8f599b1a3|\n",
            "|0xad649bcaff3495e70cfc73fbce2dd19a2760073b|\n",
            "|0xf19630799ec47834aee3995e61e41d699e6579b0|\n",
            "|0x8ebb9dbd42671dfb5b054c8d3cd717058d658658|\n",
            "|0xa9fd6ed5172b4c266948ce2ae41336a9b58155fb|\n",
            "|0x663c984a689867998f19f11684051abb07d287af|\n",
            "|0xc5f62d1bbde43dd086a25a8fd99a1675160cbc04|\n",
            "|0x1dafe114cfb27afe08becf79ce641ab1ef60d5e0|\n",
            "|0xcd6758e0bb9555bc34416a4361305a8903a4e51c|\n",
            "+------------------------------------------+\n",
            "only showing top 20 rows\n",
            "\n"
          ]
        }
      ],
      "source": [
        "# 2nd method\n",
        "# Column name is case insensitive here\n",
        "print(df['address'])\n",
        "print(\"*\"*20)\n",
        "df.select(df['address']).show(truncate=False)"
      ]
    },
    {
      "cell_type": "code",
      "execution_count": null,
      "metadata": {
        "colab": {
          "base_uri": "https://localhost:8080/"
        },
        "id": "6Gkf14sHec9a",
        "outputId": "484538ea-fa8b-4655-d774-b2696e7ec66c"
      },
      "outputs": [
        {
          "output_type": "stream",
          "name": "stdout",
          "text": [
            "+------------------------------------------+\n",
            "|address                                   |\n",
            "+------------------------------------------+\n",
            "|0x9874f287b5a05c945cbedffb0bfd9fbcde6c01f5|\n",
            "|0x8215582518610d7adf8c9939ea03ca3baa6839f6|\n",
            "|0xf4be7f6f252945036427ed53ee869b9d09b76e3c|\n",
            "|0xac53fd148679e0b9ee448d5928ac7aa1cecbe10d|\n",
            "|0xd809a6957f057f91954245b60e2056beb5faf037|\n",
            "|0x76dcc99f6935785dfb494773d98a09613147d4be|\n",
            "|0xb82faa264ea92ca78a4de6d76089457d0f07f2a2|\n",
            "|0x1d0ccd03422ceefddafa55a0acff36c3789827bf|\n",
            "|0x5961c547503ee0a1e185fc29dbc87fb5f0c98071|\n",
            "|0x4a65d343b5b7f55d668c9572a672c0a6685e5776|\n",
            "|0xda885bae09fa3dbfb1faeb84867bbb3fb68bfbb6|\n",
            "|0x7ac34ef35edfa28cb4961e7a383c3be8f599b1a3|\n",
            "|0xad649bcaff3495e70cfc73fbce2dd19a2760073b|\n",
            "|0xf19630799ec47834aee3995e61e41d699e6579b0|\n",
            "|0x8ebb9dbd42671dfb5b054c8d3cd717058d658658|\n",
            "|0xa9fd6ed5172b4c266948ce2ae41336a9b58155fb|\n",
            "|0x663c984a689867998f19f11684051abb07d287af|\n",
            "|0xc5f62d1bbde43dd086a25a8fd99a1675160cbc04|\n",
            "|0x1dafe114cfb27afe08becf79ce641ab1ef60d5e0|\n",
            "|0xcd6758e0bb9555bc34416a4361305a8903a4e51c|\n",
            "+------------------------------------------+\n",
            "only showing top 20 rows\n",
            "\n"
          ]
        }
      ],
      "source": [
        "# 3rd method\n",
        "# Column name is case insensitive here\n",
        "from pyspark.sql.functions import col\n",
        "df.select(col('address')).show(truncate=False)"
      ]
    },
    {
      "cell_type": "markdown",
      "metadata": {
        "id": "z6QsMfnNt3qF"
      },
      "source": [
        "<a id='selecting-multiple-columns'></a>\n",
        "### Selecting Multiple Columns"
      ]
    },
    {
      "cell_type": "code",
      "execution_count": null,
      "metadata": {
        "colab": {
          "base_uri": "https://localhost:8080/"
        },
        "id": "bPjLMhZ6uAQR",
        "outputId": "69b90b61-6fde-4f7f-f04b-b9cd0e828d33"
      },
      "outputs": [
        {
          "output_type": "stream",
          "name": "stdout",
          "text": [
            "Column<'address'> Column<'address'>\n",
            "****************************************\n",
            "+------------------------------------------+-------------------+\n",
            "|address                                   |eth_balance        |\n",
            "+------------------------------------------+-------------------+\n",
            "|0x9874f287b5a05c945cbedffb0bfd9fbcde6c01f5|0                  |\n",
            "|0x8215582518610d7adf8c9939ea03ca3baa6839f6|24175927118817482  |\n",
            "|0xf4be7f6f252945036427ed53ee869b9d09b76e3c|0                  |\n",
            "|0xac53fd148679e0b9ee448d5928ac7aa1cecbe10d|10000000004        |\n",
            "|0xd809a6957f057f91954245b60e2056beb5faf037|0                  |\n",
            "|0x76dcc99f6935785dfb494773d98a09613147d4be|0                  |\n",
            "|0xb82faa264ea92ca78a4de6d76089457d0f07f2a2|15538379333120     |\n",
            "|0x1d0ccd03422ceefddafa55a0acff36c3789827bf|0                  |\n",
            "|0x5961c547503ee0a1e185fc29dbc87fb5f0c98071|0                  |\n",
            "|0x4a65d343b5b7f55d668c9572a672c0a6685e5776|0                  |\n",
            "|0xda885bae09fa3dbfb1faeb84867bbb3fb68bfbb6|254673894510000    |\n",
            "|0x7ac34ef35edfa28cb4961e7a383c3be8f599b1a3|1404744140280226447|\n",
            "|0xad649bcaff3495e70cfc73fbce2dd19a2760073b|0                  |\n",
            "|0xf19630799ec47834aee3995e61e41d699e6579b0|0                  |\n",
            "|0x8ebb9dbd42671dfb5b054c8d3cd717058d658658|2015730000000      |\n",
            "|0xa9fd6ed5172b4c266948ce2ae41336a9b58155fb|474000000000000    |\n",
            "|0x663c984a689867998f19f11684051abb07d287af|0                  |\n",
            "|0xc5f62d1bbde43dd086a25a8fd99a1675160cbc04|0                  |\n",
            "|0x1dafe114cfb27afe08becf79ce641ab1ef60d5e0|0                  |\n",
            "|0xcd6758e0bb9555bc34416a4361305a8903a4e51c|0                  |\n",
            "+------------------------------------------+-------------------+\n",
            "only showing top 20 rows\n",
            "\n"
          ]
        }
      ],
      "source": [
        "# 1st method\n",
        "# Column name is case sensitive in this usage\n",
        "print(df.address, df.address)\n",
        "print(\"*\"*40)\n",
        "df.select(df.address, df.eth_balance).show(truncate=False)"
      ]
    },
    {
      "cell_type": "code",
      "execution_count": null,
      "metadata": {
        "id": "dGaQS_pOwx_b"
      },
      "outputs": [],
      "source": [
        "df = df.withColumn(\"no_of_ethereum\",col(\"eth_balance\")* 1)\n"
      ]
    },
    {
      "cell_type": "code",
      "execution_count": null,
      "metadata": {
        "id": "YJADiNB7hwro"
      },
      "outputs": [],
      "source": [
        "import pandas as pd\n",
        "import numpy as np\n",
        "import time\n",
        "import datetime;"
      ]
    },
    {
      "cell_type": "code",
      "execution_count": null,
      "metadata": {
        "colab": {
          "base_uri": "https://localhost:8080/"
        },
        "id": "Yi3ghf93iXFO",
        "outputId": "69b5626f-8298-4e48-f3ad-796027365874"
      },
      "outputs": [
        {
          "output_type": "stream",
          "name": "stdout",
          "text": [
            "current time:- 2022-07-22 10:32:41.841336\n"
          ]
        }
      ],
      "source": [
        "#Logging time of start of execution\n",
        "ct = datetime.datetime.now()\n",
        "print(\"current time:-\", ct)"
      ]
    },
    {
      "cell_type": "code",
      "execution_count": null,
      "metadata": {
        "id": "GquUnAxiPXLF"
      },
      "outputs": [],
      "source": [
        "df = df.withColumn(\"ethereum_price\",col(\"no_of_ethereum\")* 1582)           # ethereium price in dollar 1 eth=1526 $\n"
      ]
    },
    {
      "cell_type": "code",
      "execution_count": null,
      "metadata": {
        "colab": {
          "base_uri": "https://localhost:8080/"
        },
        "id": "v4v6GE0nG7dx",
        "outputId": "9bb4d4d1-9563-4613-e778-ab8ada60c6b8"
      },
      "outputs": [
        {
          "output_type": "stream",
          "name": "stdout",
          "text": [
            "+--------------------+-------------------+-------------------+--------------------+\n",
            "|             address|        eth_balance|     no_of_ethereum|      ethereum_price|\n",
            "+--------------------+-------------------+-------------------+--------------------+\n",
            "|0x9874f287b5a05c9...|                  0|                  0|                   0|\n",
            "|0x8215582518610d7...|  24175927118817482|  24175927118817482|38246316701969256524|\n",
            "|0xf4be7f6f2529450...|                  0|                  0|                   0|\n",
            "|0xac53fd148679e0b...|        10000000004|        10000000004|      15820000006328|\n",
            "|0xd809a6957f057f9...|                  0|                  0|                   0|\n",
            "|0x76dcc99f6935785...|                  0|                  0|                   0|\n",
            "|0xb82faa264ea92ca...|     15538379333120|     15538379333120|   24581716104995840|\n",
            "|0x1d0ccd03422ceef...|                  0|                  0|                   0|\n",
            "|0x5961c547503ee0a...|                  0|                  0|                   0|\n",
            "|0x4a65d343b5b7f55...|                  0|                  0|                   0|\n",
            "|0xda885bae09fa3db...|    254673894510000|    254673894510000|  402894101114820000|\n",
            "|0x7ac34ef35edfa28...|1404744140280226447|1404744140280226447|22223052299233182...|\n",
            "|0xad649bcaff3495e...|                  0|                  0|                   0|\n",
            "|0xf19630799ec4783...|                  0|                  0|                   0|\n",
            "|0x8ebb9dbd42671df...|      2015730000000|      2015730000000|    3188884860000000|\n",
            "|0xa9fd6ed5172b4c2...|    474000000000000|    474000000000000|  749868000000000000|\n",
            "|0x663c984a6898679...|                  0|                  0|                   0|\n",
            "|0xc5f62d1bbde43dd...|                  0|                  0|                   0|\n",
            "|0x1dafe114cfb27af...|                  0|                  0|                   0|\n",
            "|0xcd6758e0bb9555b...|                  0|                  0|                   0|\n",
            "+--------------------+-------------------+-------------------+--------------------+\n",
            "only showing top 20 rows\n",
            "\n"
          ]
        }
      ],
      "source": [
        "df.show()"
      ]
    },
    {
      "cell_type": "code",
      "execution_count": null,
      "metadata": {
        "id": "G3_I3hzeajY6"
      },
      "outputs": [],
      "source": [
        "from pyspark.sql.functions import when\n",
        "df3 = df.withColumn('ethereum_range',\n",
        "         when((df.no_of_ethereum>=0) & (df.no_of_ethereum<10),\"0-10\")\n",
        "        .when((df.no_of_ethereum>=10) & (df.no_of_ethereum<50),\"10-50\")\n",
        "        .when((df.no_of_ethereum>=50) & (df.no_of_ethereum<100),\"50-100\")\n",
        "        .when((df.no_of_ethereum>=100) & (df.no_of_ethereum<500),\"100-500\")\n",
        "        .when((df.no_of_ethereum>=500) & (df.no_of_ethereum<1000),\"500-1k\")\n",
        "        .when((df.no_of_ethereum>=1000) & (df.no_of_ethereum<5000),\"1k-5k\")\n",
        "        .when((df.no_of_ethereum>=5000) & (df.no_of_ethereum<10000),\"5k-10k\")\n",
        "        .otherwise('10k+'))"
      ]
    },
    {
      "cell_type": "code",
      "source": [
        "df3.show()"
      ],
      "metadata": {
        "colab": {
          "base_uri": "https://localhost:8080/"
        },
        "id": "9ZIyx66mJXh6",
        "outputId": "95c01a62-4845-4353-d809-f964d402721a"
      },
      "execution_count": null,
      "outputs": [
        {
          "output_type": "stream",
          "name": "stdout",
          "text": [
            "+--------------------+-------------------+-------------------+--------------------+--------------+\n",
            "|             address|        eth_balance|     no_of_ethereum|      ethereum_price|ethereum_range|\n",
            "+--------------------+-------------------+-------------------+--------------------+--------------+\n",
            "|0x9874f287b5a05c9...|                  0|                  0|                   0|          0-10|\n",
            "|0x8215582518610d7...|  24175927118817482|  24175927118817482|38246316701969256524|          10k+|\n",
            "|0xf4be7f6f2529450...|                  0|                  0|                   0|          0-10|\n",
            "|0xac53fd148679e0b...|        10000000004|        10000000004|      15820000006328|          10k+|\n",
            "|0xd809a6957f057f9...|                  0|                  0|                   0|          0-10|\n",
            "|0x76dcc99f6935785...|                  0|                  0|                   0|          0-10|\n",
            "|0xb82faa264ea92ca...|     15538379333120|     15538379333120|   24581716104995840|          10k+|\n",
            "|0x1d0ccd03422ceef...|                  0|                  0|                   0|          0-10|\n",
            "|0x5961c547503ee0a...|                  0|                  0|                   0|          0-10|\n",
            "|0x4a65d343b5b7f55...|                  0|                  0|                   0|          0-10|\n",
            "|0xda885bae09fa3db...|    254673894510000|    254673894510000|  402894101114820000|          10k+|\n",
            "|0x7ac34ef35edfa28...|1404744140280226447|1404744140280226447|22223052299233182...|          10k+|\n",
            "|0xad649bcaff3495e...|                  0|                  0|                   0|          0-10|\n",
            "|0xf19630799ec4783...|                  0|                  0|                   0|          0-10|\n",
            "|0x8ebb9dbd42671df...|      2015730000000|      2015730000000|    3188884860000000|          10k+|\n",
            "|0xa9fd6ed5172b4c2...|    474000000000000|    474000000000000|  749868000000000000|          10k+|\n",
            "|0x663c984a6898679...|                  0|                  0|                   0|          0-10|\n",
            "|0xc5f62d1bbde43dd...|                  0|                  0|                   0|          0-10|\n",
            "|0x1dafe114cfb27af...|                  0|                  0|                   0|          0-10|\n",
            "|0xcd6758e0bb9555b...|                  0|                  0|                   0|          0-10|\n",
            "+--------------------+-------------------+-------------------+--------------------+--------------+\n",
            "only showing top 20 rows\n",
            "\n"
          ]
        }
      ]
    },
    {
      "cell_type": "code",
      "source": [
        "from pyspark.sql.functions import desc\n",
        "df3.groupBy(\"ethereum_range\").count().orderBy(desc(\"count\"))  # or  df3.groupBy('ethereum_range').count().show()"
      ],
      "metadata": {
        "colab": {
          "base_uri": "https://localhost:8080/",
          "height": 231
        },
        "id": "Ss4F-7ghZy_E",
        "outputId": "a150480c-96d7-459b-d043-c8fa5d5f5a9d"
      },
      "execution_count": null,
      "outputs": [
        {
          "output_type": "execute_result",
          "data": {
            "text/plain": [
              "+--------------+---------+\n",
              "|ethereum_range|    count|\n",
              "+--------------+---------+\n",
              "|          0-10|136337831|\n",
              "|          10k+| 80863074|\n",
              "|        5k-10k|   355258|\n",
              "|         1k-5k|   336446|\n",
              "|         10-50|    58338|\n",
              "|       100-500|    37650|\n",
              "|        500-1k|    23879|\n",
              "|        50-100|    15776|\n",
              "+--------------+---------+"
            ],
            "text/html": [
              "<table border='1'>\n",
              "<tr><th>ethereum_range</th><th>count</th></tr>\n",
              "<tr><td>0-10</td><td>136337831</td></tr>\n",
              "<tr><td>10k+</td><td>80863074</td></tr>\n",
              "<tr><td>5k-10k</td><td>355258</td></tr>\n",
              "<tr><td>1k-5k</td><td>336446</td></tr>\n",
              "<tr><td>10-50</td><td>58338</td></tr>\n",
              "<tr><td>100-500</td><td>37650</td></tr>\n",
              "<tr><td>500-1k</td><td>23879</td></tr>\n",
              "<tr><td>50-100</td><td>15776</td></tr>\n",
              "</table>\n"
            ]
          },
          "metadata": {},
          "execution_count": 122
        }
      ]
    },
    {
      "cell_type": "code",
      "source": [
        "dataF=df3.select(\"ethereum_range\").count()"
      ],
      "metadata": {
        "id": "5nahJFWWEhrC"
      },
      "execution_count": null,
      "outputs": []
    },
    {
      "cell_type": "code",
      "execution_count": null,
      "metadata": {
        "id": "pNxZo4c0e_yN"
      },
      "outputs": [],
      "source": [
        "#creating groups for dollar value of bitcoins owned in a wallet\n",
        "from pyspark.sql.functions import when\n",
        "df3 = df3.withColumn('ethereum_dollar_range',\n",
        "            when((df.ethereum_price>=0) & (df.ethereum_price<10000),'0-$10K')\n",
        "            .when((df.ethereum_price>=10000) & (df.ethereum_price<100000),'$10K-$100K')\n",
        "            .when((df.ethereum_price>=100000) & (df.ethereum_price<500000),'100K-500K')\n",
        "            .when((df.ethereum_price>=500000) & (df.ethereum_price<1000000),'500K-1M') \n",
        "            .when((df.ethereum_price>=1000000) & (df.ethereum_price<5000000),'1M-5M')\n",
        "            .when((df.ethereum_price >=5000000) & (df.ethereum_price<10000000),'5M-10M')\n",
        "            .when((df.ethereum_price>=10000000) & (df.ethereum_price<25000000),'10M-25M')\n",
        "            .when((df.ethereum_price>=25000000) & (df.ethereum_price<50000000),'25M-50M')\n",
        "            .when((df.ethereum_price>=50000000) & (df.ethereum_price<100000000),'50M-100M')\n",
        "            .when((df.ethereum_price>=100000000) & (df.ethereum_price<250000000),'100M-250M')\n",
        "            .when((df.ethereum_price>=250000000) & (df.ethereum_price<1000000000),'250M-1B')\n",
        "            .when((df.ethereum_price>=1000000000) & (df.ethereum_price<10000000000),'1B-10B')\n",
        "            .otherwise('>10B+'))"
      ]
    },
    {
      "cell_type": "code",
      "execution_count": null,
      "metadata": {
        "colab": {
          "base_uri": "https://localhost:8080/"
        },
        "id": "kw0TZSbe7aQm",
        "outputId": "47411a37-0e81-4e1b-ace2-9da4850739a2"
      },
      "outputs": [
        {
          "output_type": "stream",
          "name": "stdout",
          "text": [
            "+--------------------+-------------------+-------------------+--------------------+--------------+---------------------+\n",
            "|             address|        eth_balance|     no_of_ethereum|      ethereum_price|ethereum_range|ethereum_dollar_range|\n",
            "+--------------------+-------------------+-------------------+--------------------+--------------+---------------------+\n",
            "|0x9874f287b5a05c9...|                  0|                  0|                   0|          0-10|               0-$10K|\n",
            "|0x8215582518610d7...|  24175927118817482|  24175927118817482|38246316701969256524|          10k+|                >10B+|\n",
            "|0xf4be7f6f2529450...|                  0|                  0|                   0|          0-10|               0-$10K|\n",
            "|0xac53fd148679e0b...|        10000000004|        10000000004|      15820000006328|          10k+|                >10B+|\n",
            "|0xd809a6957f057f9...|                  0|                  0|                   0|          0-10|               0-$10K|\n",
            "|0x76dcc99f6935785...|                  0|                  0|                   0|          0-10|               0-$10K|\n",
            "|0xb82faa264ea92ca...|     15538379333120|     15538379333120|   24581716104995840|          10k+|                >10B+|\n",
            "|0x1d0ccd03422ceef...|                  0|                  0|                   0|          0-10|               0-$10K|\n",
            "|0x5961c547503ee0a...|                  0|                  0|                   0|          0-10|               0-$10K|\n",
            "|0x4a65d343b5b7f55...|                  0|                  0|                   0|          0-10|               0-$10K|\n",
            "|0xda885bae09fa3db...|    254673894510000|    254673894510000|  402894101114820000|          10k+|                >10B+|\n",
            "|0x7ac34ef35edfa28...|1404744140280226447|1404744140280226447|22223052299233182...|          10k+|                >10B+|\n",
            "|0xad649bcaff3495e...|                  0|                  0|                   0|          0-10|               0-$10K|\n",
            "|0xf19630799ec4783...|                  0|                  0|                   0|          0-10|               0-$10K|\n",
            "|0x8ebb9dbd42671df...|      2015730000000|      2015730000000|    3188884860000000|          10k+|                >10B+|\n",
            "|0xa9fd6ed5172b4c2...|    474000000000000|    474000000000000|  749868000000000000|          10k+|                >10B+|\n",
            "|0x663c984a6898679...|                  0|                  0|                   0|          0-10|               0-$10K|\n",
            "|0xc5f62d1bbde43dd...|                  0|                  0|                   0|          0-10|               0-$10K|\n",
            "|0x1dafe114cfb27af...|                  0|                  0|                   0|          0-10|               0-$10K|\n",
            "|0xcd6758e0bb9555b...|                  0|                  0|                   0|          0-10|               0-$10K|\n",
            "+--------------------+-------------------+-------------------+--------------------+--------------+---------------------+\n",
            "only showing top 20 rows\n",
            "\n"
          ]
        }
      ],
      "source": [
        "df3.show()"
      ]
    },
    {
      "cell_type": "code",
      "source": [
        "from pyspark.sql.functions import desc\n",
        "df3.groupBy(\"ethereum_dollar_range\").count().orderBy(desc(\"count\"))  # or  df3.groupBy('ethereum_dollar_range').count().show()"
      ],
      "metadata": {
        "colab": {
          "base_uri": "https://localhost:8080/",
          "height": 348
        },
        "id": "W621E8AmWc82",
        "outputId": "03b47453-f618-4792-dd51-7fa73308b9f3"
      },
      "execution_count": null,
      "outputs": [
        {
          "output_type": "execute_result",
          "data": {
            "text/plain": [
              "+---------------------+---------+\n",
              "|ethereum_dollar_range|    count|\n",
              "+---------------------+---------+\n",
              "|               0-$10K|136326454|\n",
              "|                >10B+| 80600287|\n",
              "|               5M-10M|   515709|\n",
              "|              10M-25M|   217168|\n",
              "|                1M-5M|    79656|\n",
              "|           $10K-$100K|    73782|\n",
              "|               1B-10B|    73116|\n",
              "|              25M-50M|    49213|\n",
              "|            100K-500K|    45995|\n",
              "|              500K-1M|    19558|\n",
              "|            100M-250M|    13891|\n",
              "|             50M-100M|     8710|\n",
              "|              250M-1B|     4713|\n",
              "+---------------------+---------+"
            ],
            "text/html": [
              "<table border='1'>\n",
              "<tr><th>ethereum_dollar_range</th><th>count</th></tr>\n",
              "<tr><td>0-$10K</td><td>136326454</td></tr>\n",
              "<tr><td>&gt;10B+</td><td>80600287</td></tr>\n",
              "<tr><td>5M-10M</td><td>515709</td></tr>\n",
              "<tr><td>10M-25M</td><td>217168</td></tr>\n",
              "<tr><td>1M-5M</td><td>79656</td></tr>\n",
              "<tr><td>$10K-$100K</td><td>73782</td></tr>\n",
              "<tr><td>1B-10B</td><td>73116</td></tr>\n",
              "<tr><td>25M-50M</td><td>49213</td></tr>\n",
              "<tr><td>100K-500K</td><td>45995</td></tr>\n",
              "<tr><td>500K-1M</td><td>19558</td></tr>\n",
              "<tr><td>100M-250M</td><td>13891</td></tr>\n",
              "<tr><td>50M-100M</td><td>8710</td></tr>\n",
              "<tr><td>250M-1B</td><td>4713</td></tr>\n",
              "</table>\n"
            ]
          },
          "metadata": {},
          "execution_count": 173
        }
      ]
    },
    {
      "cell_type": "code",
      "execution_count": null,
      "metadata": {
        "id": "ij5IgXqAdjlW"
      },
      "outputs": [],
      "source": [
        "dataF=df3.select(\"ethereum_dollar_range\",\"ethereum_price\",\"no_of_ethereum\")"
      ]
    },
    {
      "cell_type": "code",
      "source": [
        "dataF.show()"
      ],
      "metadata": {
        "colab": {
          "base_uri": "https://localhost:8080/"
        },
        "id": "-5JqWRq8joA7",
        "outputId": "db1e341f-4ea1-435b-8b0b-3c4e72ac3e29"
      },
      "execution_count": null,
      "outputs": [
        {
          "output_type": "stream",
          "name": "stdout",
          "text": [
            "+---------------------+--------------------+-------------------+\n",
            "|ethereum_dollar_range|      ethereum_price|     no_of_ethereum|\n",
            "+---------------------+--------------------+-------------------+\n",
            "|               0-$10K|                   0|                  0|\n",
            "|                >10B+|38246316701969256524|  24175927118817482|\n",
            "|               0-$10K|                   0|                  0|\n",
            "|                >10B+|      15820000006328|        10000000004|\n",
            "|               0-$10K|                   0|                  0|\n",
            "|               0-$10K|                   0|                  0|\n",
            "|                >10B+|   24581716104995840|     15538379333120|\n",
            "|               0-$10K|                   0|                  0|\n",
            "|               0-$10K|                   0|                  0|\n",
            "|               0-$10K|                   0|                  0|\n",
            "|                >10B+|  402894101114820000|    254673894510000|\n",
            "|                >10B+|22223052299233182...|1404744140280226447|\n",
            "|               0-$10K|                   0|                  0|\n",
            "|               0-$10K|                   0|                  0|\n",
            "|                >10B+|    3188884860000000|      2015730000000|\n",
            "|                >10B+|  749868000000000000|    474000000000000|\n",
            "|               0-$10K|                   0|                  0|\n",
            "|               0-$10K|                   0|                  0|\n",
            "|               0-$10K|                   0|                  0|\n",
            "|               0-$10K|                   0|                  0|\n",
            "+---------------------+--------------------+-------------------+\n",
            "only showing top 20 rows\n",
            "\n"
          ]
        }
      ]
    },
    {
      "cell_type": "code",
      "source": [
        "dataF.write.options(header=True).csv(\"/content/drive/MyDrive/eth_dollar_price_range_sum.csv\")"
      ],
      "metadata": {
        "id": "9uz_cadCj4sS"
      },
      "execution_count": null,
      "outputs": []
    },
    {
      "cell_type": "code",
      "execution_count": null,
      "metadata": {
        "colab": {
          "background_save": true
        },
        "id": "DbMWAGZPi0fB"
      },
      "outputs": [],
      "source": [
        "# df5= df2.groupBy('ethereum_dollar_range').count().show()"
      ]
    },
    {
      "cell_type": "code",
      "execution_count": null,
      "metadata": {
        "id": "nwytZYgm2FH2"
      },
      "outputs": [],
      "source": [
        "dataF2=df3.select(\"ethereum_range\",\"ethereum_price\",\"no_of_ethereum\")"
      ]
    },
    {
      "cell_type": "markdown",
      "metadata": {
        "id": "Z0EJoLf0HL_p"
      },
      "source": [
        "https://www.youtube.com/watch?v=I0V8H6fi2G4"
      ]
    },
    {
      "cell_type": "code",
      "execution_count": null,
      "metadata": {
        "colab": {
          "base_uri": "https://localhost:8080/"
        },
        "id": "hWGk0LXfOhrc",
        "outputId": "eb9de4d6-de8c-4c21-d49d-162f2899e081"
      },
      "outputs": [
        {
          "output_type": "stream",
          "name": "stdout",
          "text": [
            "+--------------+--------------------+-------------------+\n",
            "|ethereum_range|      ethereum_price|     no_of_ethereum|\n",
            "+--------------+--------------------+-------------------+\n",
            "|          0-10|                   0|                  0|\n",
            "|          10k+|38246316701969256524|  24175927118817482|\n",
            "|          0-10|                   0|                  0|\n",
            "|          10k+|      15820000006328|        10000000004|\n",
            "|          0-10|                   0|                  0|\n",
            "|          0-10|                   0|                  0|\n",
            "|          10k+|   24581716104995840|     15538379333120|\n",
            "|          0-10|                   0|                  0|\n",
            "|          0-10|                   0|                  0|\n",
            "|          0-10|                   0|                  0|\n",
            "|          10k+|  402894101114820000|    254673894510000|\n",
            "|          10k+|22223052299233182...|1404744140280226447|\n",
            "|          0-10|                   0|                  0|\n",
            "|          0-10|                   0|                  0|\n",
            "|          10k+|    3188884860000000|      2015730000000|\n",
            "|          10k+|  749868000000000000|    474000000000000|\n",
            "|          0-10|                   0|                  0|\n",
            "|          0-10|                   0|                  0|\n",
            "|          0-10|                   0|                  0|\n",
            "|          0-10|                   0|                  0|\n",
            "+--------------+--------------------+-------------------+\n",
            "only showing top 20 rows\n",
            "\n"
          ]
        }
      ],
      "source": [
        "dataF2.show()"
      ]
    },
    {
      "cell_type": "code",
      "execution_count": null,
      "metadata": {
        "id": "2T1-487H37Xz"
      },
      "outputs": [],
      "source": [
        "dataF2.write.options(header=True).csv(\"/content/drive/MyDrive/ethereum_result/ethereum_price_range_sum.csv\")"
      ]
    },
    {
      "cell_type": "markdown",
      "source": [
        "REference: https://dbmstutorials.com/pyspark/spark-dataframe-to-file-part-1.html\n"
      ],
      "metadata": {
        "id": "5ePEFz1twImO"
      }
    },
    {
      "cell_type": "code",
      "source": [
        ""
      ],
      "metadata": {
        "id": "SXq76-pdtAV1"
      },
      "execution_count": null,
      "outputs": []
    }
  ],
  "metadata": {
    "colab": {
      "collapsed_sections": [],
      "name": "Ethereum wealth distribution:Bigquerydata.ipynb",
      "provenance": []
    },
    "kernelspec": {
      "display_name": "Python 3",
      "language": "python",
      "name": "python3"
    },
    "language_info": {
      "codemirror_mode": {
        "name": "ipython",
        "version": 3
      },
      "file_extension": ".py",
      "mimetype": "text/x-python",
      "name": "python",
      "nbconvert_exporter": "python",
      "pygments_lexer": "ipython3",
      "version": "3.6.5"
    }
  },
  "nbformat": 4,
  "nbformat_minor": 0
}